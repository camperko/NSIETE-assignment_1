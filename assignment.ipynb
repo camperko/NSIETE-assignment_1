{
 "cells": [
  {
   "cell_type": "code",
   "execution_count": 1,
   "metadata": {
    "collapsed": true
   },
   "outputs": [],
   "source": [
    "import pandas as pd\n",
    "import numpy as np\n",
    "import sklearn as sk\n",
    "\n",
    "from sklearn.preprocessing import StandardScaler\n",
    "from sklearn.preprocessing import MinMaxScaler\n",
    "\n",
    "# Init scalers\n",
    "std_scaler = StandardScaler()\n",
    "minmax_scaler = MinMaxScaler()\n",
    "\n",
    "# Load dataset\n",
    "titanic = pd.read_csv(\"titanic.csv\", header=0, sep=\",\")\n",
    "\n",
    "# Normalize dataset\n",
    "# Normalize sex\n",
    "titanic['Sex'].replace(['female','male'],[0,1],inplace=True)\n",
    "# Normalize parents - if needed\n",
    "# titanic = titanic[titanic['Parents'] > 2]\n",
    "titanic['Parents'] = std_scaler.fit_transform(titanic[['Parents']])\n",
    "# Normalize siblings\n",
    "titanic['Siblings'] = std_scaler.fit_transform(titanic[['Siblings']])\n",
    "# Normalize age\n",
    "titanic['Age'] = std_scaler.fit_transform(titanic[['Age']])\n",
    "# Normalize passenger class\n",
    "p_classes = pd.get_dummies(titanic.Pclass, prefix='Class')\n",
    "titanic = titanic.join(p_classes).drop(['Pclass'], axis=1)\n",
    "# Normalize fare\n",
    "titanic['Fare'] = std_scaler.fit_transform(titanic[['Fare']])\n",
    "\n",
    "titanic = sk.utils.shuffle(titanic)\n",
    "\n",
    "# Split dataset to train, test and valid\n",
    "train, test = np.split(titanic, [int(.7*len(titanic))])\n",
    "\n",
    "# Create train and test set\n",
    "train_labels = train['Survived']\n",
    "train_data = train.drop(['Survived', 'Name'], axis=1)\n",
    "test_labels = test['Survived']\n",
    "test_data = test.drop(['Survived', 'Name'], axis=1)\n",
    "\n",
    "\n"
   ]
  },
  {
   "cell_type": "code",
   "execution_count": 2,
   "outputs": [],
   "source": [
    "import torch\n",
    "import torch.nn as nn\n",
    "import torch.nn.functional as F\n",
    "import torch.optim as optim\n",
    "\n",
    "# Create tensors from train and test set\n",
    "train_data_tensor = torch.FloatTensor(train_data.values)\n",
    "train_label_tensor = torch.LongTensor(train_labels.values)\n",
    "test_data_tensor = torch.FloatTensor(test_data.values)\n",
    "test_label_tensor = torch.LongTensor(test_labels.values)"
   ],
   "metadata": {
    "collapsed": false,
    "pycharm": {
     "name": "#%%\n"
    }
   }
  },
  {
   "cell_type": "code",
   "execution_count": 3,
   "outputs": [],
   "source": [
    "# Initialize hyperparameters\n",
    "input_size = 8\n",
    "output_size = 2\n",
    "hidden_size1 = 64\n",
    "hidden_size2 = 56\n",
    "epochs = 50\n",
    "learning_rate = 0.005\n",
    "\n",
    "# Initialize model class with layers and activation functions\n",
    "class Network(nn.Module):\n",
    "    def __init__(self):\n",
    "        super(Network, self).__init__()\n",
    "        self.fc1 = nn.Linear(in_features=input_size, out_features=hidden_size1)\n",
    "        self.fc2 = nn.Linear(in_features=hidden_size1, out_features=hidden_size2)\n",
    "        self.output = nn.Linear(in_features=hidden_size2, out_features=output_size)\n",
    "\n",
    "    def forward(self, x):\n",
    "        x = F.relu(self.fc1(x))\n",
    "        x = F.relu(self.fc2(x))\n",
    "        x = self.output(x)\n",
    "        return x\n",
    "\n",
    "# Create net instance, loss function and optimizer\n",
    "net = Network()\n",
    "optimizer = optim.Adam(net.parameters(), lr=learning_rate)\n",
    "criterion = nn.CrossEntropyLoss()"
   ],
   "metadata": {
    "collapsed": false,
    "pycharm": {
     "name": "#%%\n"
    }
   }
  },
  {
   "cell_type": "code",
   "execution_count": 4,
   "outputs": [
    {
     "name": "stdout",
     "output_type": "stream",
     "text": [
      "Epoch: 0 \t Loss: 0.6799057722091675\n",
      "Epoch: 1 \t Loss: 0.6561161875724792\n",
      "Epoch: 2 \t Loss: 0.6360313892364502\n",
      "Epoch: 3 \t Loss: 0.6180565357208252\n",
      "Epoch: 4 \t Loss: 0.6013931035995483\n",
      "Epoch: 5 \t Loss: 0.5857210159301758\n",
      "Epoch: 6 \t Loss: 0.5709347724914551\n",
      "Epoch: 7 \t Loss: 0.5569072365760803\n",
      "Epoch: 8 \t Loss: 0.5434609651565552\n",
      "Epoch: 9 \t Loss: 0.5307271480560303\n",
      "Epoch: 10 \t Loss: 0.5183183550834656\n",
      "Epoch: 11 \t Loss: 0.5056427717208862\n",
      "Epoch: 12 \t Loss: 0.4922598600387573\n",
      "Epoch: 13 \t Loss: 0.47856584191322327\n",
      "Epoch: 14 \t Loss: 0.465663880109787\n",
      "Epoch: 15 \t Loss: 0.45447593927383423\n",
      "Epoch: 16 \t Loss: 0.4455397129058838\n",
      "Epoch: 17 \t Loss: 0.4390864074230194\n",
      "Epoch: 18 \t Loss: 0.43480464816093445\n",
      "Epoch: 19 \t Loss: 0.43157413601875305\n",
      "Epoch: 20 \t Loss: 0.4288713037967682\n",
      "Epoch: 21 \t Loss: 0.42647430300712585\n",
      "Epoch: 22 \t Loss: 0.4243113398551941\n",
      "Epoch: 23 \t Loss: 0.42229998111724854\n",
      "Epoch: 24 \t Loss: 0.4197348356246948\n",
      "Epoch: 25 \t Loss: 0.4161626994609833\n",
      "Epoch: 26 \t Loss: 0.41186627745628357\n",
      "Epoch: 27 \t Loss: 0.40729084610939026\n",
      "Epoch: 28 \t Loss: 0.4029877185821533\n",
      "Epoch: 29 \t Loss: 0.3996411859989166\n",
      "Epoch: 30 \t Loss: 0.3970699906349182\n",
      "Epoch: 31 \t Loss: 0.39506906270980835\n",
      "Epoch: 32 \t Loss: 0.3934604227542877\n",
      "Epoch: 33 \t Loss: 0.3920022249221802\n",
      "Epoch: 34 \t Loss: 0.3903401792049408\n",
      "Epoch: 35 \t Loss: 0.3885684609413147\n",
      "Epoch: 36 \t Loss: 0.38666456937789917\n",
      "Epoch: 37 \t Loss: 0.38457366824150085\n",
      "Epoch: 38 \t Loss: 0.38247716426849365\n",
      "Epoch: 39 \t Loss: 0.3803847134113312\n",
      "Epoch: 40 \t Loss: 0.37825512886047363\n",
      "Epoch: 41 \t Loss: 0.3760668933391571\n",
      "Epoch: 42 \t Loss: 0.3739623427391052\n",
      "Epoch: 43 \t Loss: 0.3718408942222595\n",
      "Epoch: 44 \t Loss: 0.3697865307331085\n",
      "Epoch: 45 \t Loss: 0.3678086996078491\n",
      "Epoch: 46 \t Loss: 0.36587873101234436\n",
      "Epoch: 47 \t Loss: 0.3639122247695923\n",
      "Epoch: 48 \t Loss: 0.36194223165512085\n",
      "Epoch: 49 \t Loss: 0.3600253164768219\n"
     ]
    }
   ],
   "source": [
    "# Train model on train data tensors\n",
    "loss_arr = []\n",
    "for i in range(epochs):\n",
    "    y_hat = net.forward(train_data_tensor)\n",
    "    loss = criterion(y_hat, train_label_tensor)\n",
    "    loss_arr.append(loss)\n",
    "\n",
    "    optimizer.zero_grad()\n",
    "    loss.backward()\n",
    "    optimizer.step()\n",
    "\n",
    "    print(f'Epoch: {i} \\t Loss: {loss}')"
   ],
   "metadata": {
    "collapsed": false,
    "pycharm": {
     "name": "#%%\n"
    }
   }
  },
  {
   "cell_type": "code",
   "execution_count": 5,
   "outputs": [
    {
     "data": {
      "text/plain": "[<matplotlib.lines.Line2D at 0x1ea849f1a60>]"
     },
     "execution_count": 5,
     "metadata": {},
     "output_type": "execute_result"
    },
    {
     "data": {
      "text/plain": "<Figure size 432x288 with 1 Axes>",
      "image/png": "[encoded data removed]"
     },
     "metadata": {
      "needs_background": "light"
     },
     "output_type": "display_data"
    }
   ],
   "source": [
    "import matplotlib.pyplot as plt\n",
    "\n",
    "# Plot graph of loss function\n",
    "plt.title('Loss to Epoch')\n",
    "plt.xlabel(\"Loss\")\n",
    "plt.xlabel(\"Epoch\")\n",
    "plt.plot(loss_arr)"
   ],
   "metadata": {
    "collapsed": false,
    "pycharm": {
     "name": "#%%\n"
    }
   }
  },
  {
   "cell_type": "code",
   "execution_count": 10,
   "outputs": [
    {
     "name": "stdout",
     "output_type": "stream",
     "text": [
      "Accuracy of model is: 0.8277153558052435\n"
     ]
    }
   ],
   "source": [
    "# Test model on test set\n",
    "predictions = []\n",
    "with torch.no_grad():\n",
    "    for val in test_data_tensor:\n",
    "        y_hat = net.forward(val)\n",
    "        predictions.append(y_hat.argmax().item())\n",
    "\n",
    "# Create dataframe with ground truth values and predicted values\n",
    "correct_sum = 0\n",
    "for corr, pred in zip(test_label_tensor, predictions):\n",
    "    correct_sum += 1 if corr == pred else 0\n",
    "\n",
    "# Print accuracy\n",
    "print(\"Accuracy of model is: \" + str(correct_sum / len(predictions)))\n"
   ],
   "metadata": {
    "collapsed": false,
    "pycharm": {
     "name": "#%%\n"
    }
   }
  },
  {
   "cell_type": "code",
   "execution_count": 15,
   "outputs": [
    {
     "name": "stdout",
     "output_type": "stream",
     "text": [
      "Model: \"sequential\"\n",
      "_________________________________________________________________\n",
      "Layer (type)                 Output Shape              Param #   \n",
      "=================================================================\n",
      "dense (Dense)                (None, 64)                576       \n",
      "_________________________________________________________________\n",
      "dense_1 (Dense)              (None, 56)                3640      \n",
      "_________________________________________________________________\n",
      "dense_2 (Dense)              (None, 1)                 57        \n",
      "=================================================================\n",
      "Total params: 4,273\n",
      "Trainable params: 4,273\n",
      "Non-trainable params: 0\n",
      "_________________________________________________________________\n",
      "Epoch 1/50\n",
      "20/20 [==============================] - 1s 15ms/step - loss: 0.6810 - accuracy: 0.6003 - val_loss: 0.5838 - val_accuracy: 0.7416\b\b\b\b\b\b\b\b\b\b\b\b\b\b\b\b\b\b\b\b\b\b\b\b\b\b\b\b\b\b\b\b\b\b\b\n",
      "Epoch 2/50\n",
      "20/20 [==============================] - 0s 2ms/step - loss: 0.5818 - accuracy: 0.7072 - val_loss: 0.5233 - val_accuracy: 0.7378\b\b\b\b\b\b\b\b\b\b\b\b\b\b\b\b\b\b\b\b\b\b\b\b\b\b\b\b\b\b\b\b\b\b\b\b\n",
      "Epoch 3/50\n",
      "20/20 [==============================] - 0s 2ms/step - loss: 0.5259 - accuracy: 0.7502 - val_loss: 0.4833 - val_accuracy: 0.8090\b\b\b\b\b\b\b\b\b\b\b\b\b\b\b\b\b\b\b\b\b\b\b\b\b\b\b\b\b\b\b\b\b\b\b\b\n",
      "Epoch 4/50\n",
      "20/20 [==============================] - 0s 2ms/step - loss: 0.4696 - accuracy: 0.7986 - val_loss: 0.4521 - val_accuracy: 0.8352\b\b\b\b\b\b\b\b\b\b\b\b\b\b\b\b\b\b\b\b\b\b\b\b\b\b\b\b\b\b\b\b\b\b\b\b\n",
      "Epoch 5/50\n",
      "20/20 [==============================] - 0s 2ms/step - loss: 0.4679 - accuracy: 0.8248 - val_loss: 0.4350 - val_accuracy: 0.8352\b\b\b\b\b\b\b\b\b\b\b\b\b\b\b\b\b\b\b\b\b\b\b\b\b\b\b\b\b\b\b\b\b\b\b\b\n",
      "Epoch 6/50\n",
      "20/20 [==============================] - 0s 3ms/step - loss: 0.4581 - accuracy: 0.8058 - val_loss: 0.4240 - val_accuracy: 0.8352\b\b\b\b\b\b\b\b\b\b\b\b\b\b\b\b\b\b\b\b\b\b\b\b\b\b\b\b\b\b\b\b\b\b\b\b\n",
      "Epoch 7/50\n",
      "20/20 [==============================] - 0s 2ms/step - loss: 0.4480 - accuracy: 0.7953 - val_loss: 0.4160 - val_accuracy: 0.8352\b\b\b\b\b\b\b\b\b\b\b\b\b\b\b\b\b\b\b\b\b\b\b\b\b\b\b\b\b\b\b\b\b\b\b\b\n",
      "Epoch 8/50\n",
      "20/20 [==============================] - 0s 2ms/step - loss: 0.4071 - accuracy: 0.8346 - val_loss: 0.4098 - val_accuracy: 0.8427\b\b\b\b\b\b\b\b\b\b\b\b\b\b\b\b\b\b\b\b\b\b\b\b\b\b\b\b\b\b\b\b\b\b\b\b\n",
      "Epoch 9/50\n",
      "20/20 [==============================] - 0s 2ms/step - loss: 0.4151 - accuracy: 0.8225 - val_loss: 0.4104 - val_accuracy: 0.8464\b\b\b\b\b\b\b\b\b\b\b\b\b\b\b\b\b\b\b\b\b\b\b\b\b\b\b\b\b\b\b\b\b\b\b\b\n",
      "Epoch 10/50\n",
      "20/20 [==============================] - 0s 2ms/step - loss: 0.4128 - accuracy: 0.8320 - val_loss: 0.4063 - val_accuracy: 0.8315\b\b\b\b\b\b\b\b\b\b\b\b\b\b\b\b\b\b\b\b\b\b\b\b\b\b\b\b\b\b\b\b\b\b\b\b\n",
      "Epoch 11/50\n",
      "20/20 [==============================] - 0s 2ms/step - loss: 0.4131 - accuracy: 0.8285 - val_loss: 0.4057 - val_accuracy: 0.8315\b\b\b\b\b\b\b\b\b\b\b\b\b\b\b\b\b\b\b\b\b\b\b\b\b\b\b\b\b\b\b\b\b\b\b\b\n",
      "Epoch 12/50\n",
      "20/20 [==============================] - 0s 2ms/step - loss: 0.3959 - accuracy: 0.8365 - val_loss: 0.4035 - val_accuracy: 0.8390\b\b\b\b\b\b\b\b\b\b\b\b\b\b\b\b\b\b\b\b\b\b\b\b\b\b\b\b\b\b\b\b\b\b\b\b\n",
      "Epoch 13/50\n",
      "20/20 [==============================] - 0s 2ms/step - loss: 0.4195 - accuracy: 0.8177 - val_loss: 0.4008 - val_accuracy: 0.8427\b\b\b\b\b\b\b\b\b\b\b\b\b\b\b\b\b\b\b\b\b\b\b\b\b\b\b\b\b\b\b\b\b\b\b\b\n",
      "Epoch 14/50\n",
      "20/20 [==============================] - 0s 2ms/step - loss: 0.4030 - accuracy: 0.8284 - val_loss: 0.3989 - val_accuracy: 0.8277\b\b\b\b\b\b\b\b\b\b\b\b\b\b\b\b\b\b\b\b\b\b\b\b\b\b\b\b\b\b\b\b\b\b\b\b\n",
      "Epoch 15/50\n",
      "20/20 [==============================] - 0s 2ms/step - loss: 0.3905 - accuracy: 0.8526 - val_loss: 0.4033 - val_accuracy: 0.8277\b\b\b\b\b\b\b\b\b\b\b\b\b\b\b\b\b\b\b\b\b\b\b\b\b\b\b\b\b\b\b\b\b\b\b\b\n",
      "Epoch 16/50\n",
      "20/20 [==============================] - 0s 3ms/step - loss: 0.3930 - accuracy: 0.8420 - val_loss: 0.3983 - val_accuracy: 0.8277\b\b\b\b\b\b\b\b\b\b\b\b\b\b\b\b\b\b\b\b\b\b\b\b\b\b\b\b\b\b\b\b\b\b\b\b\n",
      "Epoch 17/50\n",
      "20/20 [==============================] - 0s 2ms/step - loss: 0.3735 - accuracy: 0.8565 - val_loss: 0.4006 - val_accuracy: 0.8240\b\b\b\b\b\b\b\b\b\b\b\b\b\b\b\b\b\b\b\b\b\b\b\b\b\b\b\b\b\b\b\b\b\b\b\b\n",
      "Epoch 18/50\n",
      "20/20 [==============================] - ETA: 0s - loss: 0.3654 - accuracy: 0.9062\b\b\b\b\b\b\b\b\b\b\b\b\b\b\b\b\b\b\b\b\b\b\b\b\b\b\b\b\b\b\b\b\b\b\b\b\b\b\b\b\b\b\b\b\b\b\b\b\b\b\b\b\b\b\b\b\b\b\b\b\b\b\b\b\b\b\b\b\b\b\b\b\b\b\b\b\b\b\b\b\b\b - 0s 2ms/step - loss: 0.3807 - accuracy: 0.8623 - val_loss: 0.3984 - val_accuracy: 0.8240\n",
      "Epoch 19/50\n",
      "20/20 [==============================] - 0s 3ms/step - loss: 0.3920 - accuracy: 0.8357 - val_loss: 0.4004 - val_accuracy: 0.8277\b\b\b\b\b\b\b\b\b\b\b\b\b\b\b\b\b\b\b\b\b\b\b\b\b\b\b\b\b\b\b\b\b\b\b\b\n",
      "Epoch 20/50\n",
      "20/20 [==============================] - 0s 2ms/step - loss: 0.4154 - accuracy: 0.8284 - val_loss: 0.3977 - val_accuracy: 0.8277\b\b\b\b\b\b\b\b\b\b\b\b\b\b\b\b\b\b\b\b\b\b\b\b\b\b\b\b\b\b\b\b\b\b\b\b\n",
      "Epoch 21/50\n",
      "20/20 [==============================] - 0s 3ms/step - loss: 0.3447 - accuracy: 0.8670 - val_loss: 0.4016 - val_accuracy: 0.8240\b\b\b\b\b\b\b\b\b\b\b\b\b\b\b\b\b\b\b\b\b\b\b\b\b\b\b\b\b\b\b\b\b\b\b\b\n",
      "Epoch 22/50\n",
      "20/20 [==============================] - 0s 2ms/step - loss: 0.3767 - accuracy: 0.8564 - val_loss: 0.3993 - val_accuracy: 0.8277\b\b\b\b\b\b\b\b\b\b\b\b\b\b\b\b\b\b\b\b\b\b\b\b\b\b\b\b\b\b\b\b\b\b\b\b\n",
      "Epoch 23/50\n",
      "20/20 [==============================] - 0s 3ms/step - loss: 0.3873 - accuracy: 0.8367 - val_loss: 0.3995 - val_accuracy: 0.8277\b\b\b\b\b\b\b\b\b\b\b\b\b\b\b\b\b\b\b\b\b\b\b\b\b\b\b\b\b\b\b\b\b\b\b\b\n",
      "Epoch 24/50\n",
      "20/20 [==============================] - 0s 2ms/step - loss: 0.3617 - accuracy: 0.8449 - val_loss: 0.3981 - val_accuracy: 0.8240\b\b\b\b\b\b\b\b\b\b\b\b\b\b\b\b\b\b\b\b\b\b\b\b\b\b\b\b\b\b\b\b\b\b\b\b\n",
      "Epoch 25/50\n",
      "20/20 [==============================] - 0s 2ms/step - loss: 0.3714 - accuracy: 0.8335 - val_loss: 0.4005 - val_accuracy: 0.8277\b\b\b\b\b\b\b\b\b\b\b\b\b\b\b\b\b\b\b\b\b\b\b\b\b\b\b\b\b\b\b\b\b\b\b\b\n",
      "Epoch 26/50\n",
      "20/20 [==============================] - 0s 3ms/step - loss: 0.3702 - accuracy: 0.8456 - val_loss: 0.4054 - val_accuracy: 0.8277\b\b\b\b\b\b\b\b\b\b\b\b\b\b\b\b\b\b\b\b\b\b\b\b\b\b\b\b\b\b\b\b\b\b\b\b\n",
      "Epoch 27/50\n",
      "20/20 [==============================] - 0s 2ms/step - loss: 0.3766 - accuracy: 0.8440 - val_loss: 0.3993 - val_accuracy: 0.8277\b\b\b\b\b\b\b\b\b\b\b\b\b\b\b\b\b\b\b\b\b\b\b\b\b\b\b\b\b\b\b\b\b\b\b\b\n",
      "Epoch 28/50\n",
      "20/20 [==============================] - 0s 3ms/step - loss: 0.4027 - accuracy: 0.8184 - val_loss: 0.4021 - val_accuracy: 0.8202\b\b\b\b\b\b\b\b\b\b\b\b\b\b\b\b\b\b\b\b\b\b\b\b\b\b\b\b\b\b\b\b\b\b\b\b\n",
      "Epoch 29/50\n",
      "20/20 [==============================] - 0s 2ms/step - loss: 0.3587 - accuracy: 0.8576 - val_loss: 0.4002 - val_accuracy: 0.8352\b\b\b\b\b\b\b\b\b\b\b\b\b\b\b\b\b\b\b\b\b\b\b\b\b\b\b\b\b\b\b\b\b\b\b\b\n",
      "Epoch 30/50\n",
      "20/20 [==============================] - 0s 2ms/step - loss: 0.3354 - accuracy: 0.8795 - val_loss: 0.4039 - val_accuracy: 0.8277\b\b\b\b\b\b\b\b\b\b\b\b\b\b\b\b\b\b\b\b\b\b\b\b\b\b\b\b\b\b\b\b\b\b\b\b\n",
      "Epoch 31/50\n",
      "20/20 [==============================] - 0s 3ms/step - loss: 0.3854 - accuracy: 0.8365 - val_loss: 0.4012 - val_accuracy: 0.8277\b\b\b\b\b\b\b\b\b\b\b\b\b\b\b\b\b\b\b\b\b\b\b\b\b\b\b\b\b\b\b\b\b\b\b\b\n",
      "Epoch 32/50\n",
      "20/20 [==============================] - 0s 2ms/step - loss: 0.3662 - accuracy: 0.8489 - val_loss: 0.4056 - val_accuracy: 0.8277\b\b\b\b\b\b\b\b\b\b\b\b\b\b\b\b\b\b\b\b\b\b\b\b\b\b\b\b\b\b\b\b\b\b\b\b\n",
      "Epoch 33/50\n",
      "20/20 [==============================] - 0s 2ms/step - loss: 0.3673 - accuracy: 0.8461 - val_loss: 0.4032 - val_accuracy: 0.8315\b\b\b\b\b\b\b\b\b\b\b\b\b\b\b\b\b\b\b\b\b\b\b\b\b\b\b\b\b\b\b\b\b\b\b\b\n",
      "Epoch 34/50\n",
      "20/20 [==============================] - 0s 2ms/step - loss: 0.3379 - accuracy: 0.8669 - val_loss: 0.4026 - val_accuracy: 0.8277\b\b\b\b\b\b\b\b\b\b\b\b\b\b\b\b\b\b\b\b\b\b\b\b\b\b\b\b\b\b\b\b\b\b\b\b\n",
      "Epoch 35/50\n",
      "20/20 [==============================] - 0s 2ms/step - loss: 0.3595 - accuracy: 0.8492 - val_loss: 0.4040 - val_accuracy: 0.8352\b\b\b\b\b\b\b\b\b\b\b\b\b\b\b\b\b\b\b\b\b\b\b\b\b\b\b\b\b\b\b\b\b\b\b\b\n",
      "Epoch 36/50\n",
      "20/20 [==============================] - 0s 3ms/step - loss: 0.3043 - accuracy: 0.8779 - val_loss: 0.4013 - val_accuracy: 0.8352\b\b\b\b\b\b\b\b\b\b\b\b\b\b\b\b\b\b\b\b\b\b\b\b\b\b\b\b\b\b\b\b\b\b\b\b\n",
      "Epoch 37/50\n",
      "20/20 [==============================] - 0s 3ms/step - loss: 0.3573 - accuracy: 0.8423 - val_loss: 0.4045 - val_accuracy: 0.8315\b\b\b\b\b\b\b\b\b\b\b\b\b\b\b\b\b\b\b\b\b\b\b\b\b\b\b\b\b\b\b\b\b\b\b\b\n",
      "Epoch 38/50\n",
      "20/20 [==============================] - 0s 2ms/step - loss: 0.3638 - accuracy: 0.8446 - val_loss: 0.4075 - val_accuracy: 0.8315\b\b\b\b\b\b\b\b\b\b\b\b\b\b\b\b\b\b\b\b\b\b\b\b\b\b\b\b\b\b\b\b\b\b\b\b\n",
      "Epoch 39/50\n",
      "20/20 [==============================] - 0s 3ms/step - loss: 0.3606 - accuracy: 0.8459 - val_loss: 0.4050 - val_accuracy: 0.8352\b\b\b\b\b\b\b\b\b\b\b\b\b\b\b\b\b\b\b\b\b\b\b\b\b\b\b\b\b\b\b\b\b\b\b\b\n",
      "Epoch 40/50\n",
      "20/20 [==============================] - 0s 3ms/step - loss: 0.3615 - accuracy: 0.8510 - val_loss: 0.4035 - val_accuracy: 0.8277\b\b\b\b\b\b\b\b\b\b\b\b\b\b\b\b\b\b\b\b\b\b\b\b\b\b\b\b\b\b\b\b\b\b\b\b\n",
      "Epoch 41/50\n",
      "20/20 [==============================] - 0s 3ms/step - loss: 0.3821 - accuracy: 0.8317 - val_loss: 0.4057 - val_accuracy: 0.8315\b\b\b\b\b\b\b\b\b\b\b\b\b\b\b\b\b\b\b\b\b\b\b\b\b\b\b\b\b\b\b\b\b\b\b\b\n",
      "Epoch 42/50\n",
      "20/20 [==============================] - 0s 2ms/step - loss: 0.3762 - accuracy: 0.8422 - val_loss: 0.4066 - val_accuracy: 0.8277\b\b\b\b\b\b\b\b\b\b\b\b\b\b\b\b\b\b\b\b\b\b\b\b\b\b\b\b\b\b\b\b\b\b\b\b\n",
      "Epoch 43/50\n",
      "20/20 [==============================] - 0s 2ms/step - loss: 0.3366 - accuracy: 0.8586 - val_loss: 0.4060 - val_accuracy: 0.8277\b\b\b\b\b\b\b\b\b\b\b\b\b\b\b\b\b\b\b\b\b\b\b\b\b\b\b\b\b\b\b\b\b\b\b\b\n",
      "Epoch 44/50\n",
      "20/20 [==============================] - 0s 2ms/step - loss: 0.3600 - accuracy: 0.8460 - val_loss: 0.4078 - val_accuracy: 0.8240\b\b\b\b\b\b\b\b\b\b\b\b\b\b\b\b\b\b\b\b\b\b\b\b\b\b\b\b\b\b\b\b\b\b\b\b\n",
      "Epoch 45/50\n",
      "20/20 [==============================] - 0s 2ms/step - loss: 0.3714 - accuracy: 0.8475 - val_loss: 0.4057 - val_accuracy: 0.8277\b\b\b\b\b\b\b\b\b\b\b\b\b\b\b\b\b\b\b\b\b\b\b\b\b\b\b\b\b\b\b\b\b\b\b\b\n",
      "Epoch 46/50\n",
      "20/20 [==============================] - 0s 3ms/step - loss: 0.3276 - accuracy: 0.8647 - val_loss: 0.4042 - val_accuracy: 0.8240\b\b\b\b\b\b\b\b\b\b\b\b\b\b\b\b\b\b\b\b\b\b\b\b\b\b\b\b\b\b\b\b\b\b\b\b\n",
      "Epoch 47/50\n",
      "20/20 [==============================] - 0s 2ms/step - loss: 0.3582 - accuracy: 0.8702 - val_loss: 0.4116 - val_accuracy: 0.8240\b\b\b\b\b\b\b\b\b\b\b\b\b\b\b\b\b\b\b\b\b\b\b\b\b\b\b\b\b\b\b\b\b\b\b\b\n",
      "Epoch 48/50\n",
      "20/20 [==============================] - 0s 2ms/step - loss: 0.3511 - accuracy: 0.8597 - val_loss: 0.4105 - val_accuracy: 0.8315\b\b\b\b\b\b\b\b\b\b\b\b\b\b\b\b\b\b\b\b\b\b\b\b\b\b\b\b\b\b\b\b\b\b\b\b\n",
      "Epoch 49/50\n",
      "20/20 [==============================] - 0s 2ms/step - loss: 0.3695 - accuracy: 0.8523 - val_loss: 0.4161 - val_accuracy: 0.8165\b\b\b\b\b\b\b\b\b\b\b\b\b\b\b\b\b\b\b\b\b\b\b\b\b\b\b\b\b\b\b\b\b\b\b\b\n",
      "Epoch 50/50\n",
      "20/20 [==============================] - 0s 2ms/step - loss: 0.3209 - accuracy: 0.8576 - val_loss: 0.4117 - val_accuracy: 0.8277\b\b\b\b\b\b\b\b\b\b\b\b\b\b\b\b\b\b\b\b\b\b\b\b\b\b\b\b\b\b\b\b\b\b\b\b\n"
     ]
    }
   ],
   "source": [
    "import tensorflow\n",
    "from tensorflow import keras\n",
    "\n",
    "keras.backend.clear_session()\n",
    "#np.random.seed(42)\n",
    "#tf.random.set_seed(42)\n",
    "\n",
    "model = keras.models.Sequential([       \n",
    "                                    keras.layers.Dense(hidden_size1, activation=\"relu\", input_dim=8),\n",
    "                                    #keras.layers.Dropout(0.2),\n",
    "                                    keras.layers.Dense(hidden_size2, activation=\"relu\"),\n",
    "                                    #keras.layers.Dropout(0.2),\n",
    "                                    keras.layers.Dense(1, activation=\"sigmoid\"),\n",
    "                                ])\n",
    "\n",
    "model.compile(loss=\"binary_crossentropy\",              \n",
    "              optimizer=\"adam\",\n",
    "              metrics=[\"accuracy\"])\n",
    "\n",
    "model.summary()\n",
    "result = model.fit(train_data.values, train_labels.values, epochs=50,\n",
    "                     validation_data=(test_data.values, test_labels.values))"
   ],
   "metadata": {
    "collapsed": false,
    "pycharm": {
     "name": "#%%\n"
    }
   }
  },
  {
   "cell_type": "code",
   "execution_count": 17,
   "outputs": [
    {
     "name": "stdout",
     "output_type": "stream",
     "text": [
      "Accuracy of model is: 0.8596774339675903\n",
      "Accuracy of validation set  is: 0.8277153372764587\n"
     ]
    },
    {
     "data": {
      "text/plain": "<Figure size 432x288 with 1 Axes>",
      "image/png": "[encoded data removed]"
     },
     "metadata": {
      "needs_background": "light"
     },
     "output_type": "display_data"
    }
   ],
   "source": [
    "# Plot graph of loss function\n",
    "plt.title('Loss to Epoch')\n",
    "plt.xlabel(\"Loss\")\n",
    "plt.xlabel(\"Epoch\")\n",
    "plt.plot(result.history['loss'])\n",
    "\n",
    "print(\"Accuracy of model is: \" + str(result.history['accuracy'][-1]))\n",
    "print(\"Accuracy of validation set  is: \" + str(result.history['val_accuracy'][-1]))\n"
   ],
   "metadata": {
    "collapsed": false,
    "pycharm": {
     "name": "#%%\n"
    }
   }
  }
 ],
 "metadata": {
  "kernelspec": {
   "display_name": "Python 3",
   "language": "python",
   "name": "python3"
  },
  "language_info": {
   "codemirror_mode": {
    "name": "ipython",
    "version": 2
   },
   "file_extension": ".py",
   "mimetype": "text/x-python",
   "name": "python",
   "nbconvert_exporter": "python",
   "pygments_lexer": "ipython2",
   "version": "2.7.6"
  }
 },
 "nbformat": 4,
 "nbformat_minor": 0
}