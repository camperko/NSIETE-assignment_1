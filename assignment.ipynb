{
 "cells": [
  {
   "cell_type": "code",
   "execution_count": 30,
   "metadata": {
    "collapsed": true
   },
   "outputs": [
    {
     "name": "stdout",
     "output_type": "stream",
     "text": [
      "         Survived         Sex           Age    Siblings     Parents  \\\n",
      "count  887.000000  887.000000  8.870000e+02  887.000000  887.000000   \n",
      "mean     0.385569    0.645998  2.403189e-17    0.525366    0.383315   \n",
      "std      0.487004    0.478480  1.000564e+00    1.104669    0.807466   \n",
      "min      0.000000    0.000000 -2.058350e+00    0.000000    0.000000   \n",
      "25%      0.000000    0.000000 -6.533568e-01    0.000000    0.000000   \n",
      "50%      0.000000    1.000000 -1.042546e-01    0.000000    0.000000   \n",
      "75%      1.000000    1.000000  6.042645e-01    1.000000    0.000000   \n",
      "max      1.000000    1.000000  3.580045e+00    8.000000    6.000000   \n",
      "\n",
      "               Fare     Class_1     Class_2     Class_3  \n",
      "count  8.870000e+02  887.000000  887.000000  887.000000  \n",
      "mean   1.301727e-16    0.243517    0.207441    0.549042  \n",
      "std    1.000564e+00    0.429447    0.405703    0.497870  \n",
      "min   -6.493034e-01    0.000000    0.000000    0.000000  \n",
      "25%   -4.900196e-01    0.000000    0.000000    0.000000  \n",
      "50%   -3.587899e-01    0.000000    0.000000    1.000000  \n",
      "75%   -2.347391e-02    0.000000    0.000000    1.000000  \n",
      "max    9.647949e+00    1.000000    1.000000    1.000000  \n"
     ]
    }
   ],
   "source": [
    "import pandas as pd\n",
    "import numpy as np\n",
    "import sklearn as sk\n",
    "\n",
    "from sklearn.preprocessing import StandardScaler\n",
    "from sklearn.preprocessing import MinMaxScaler\n",
    "\n",
    "std_scaler = StandardScaler()\n",
    "minmax_scaler = MinMaxScaler()\n",
    "\n",
    "# Load dataset\n",
    "titanic = pd.read_csv(\"titanic.csv\", header=0, sep=\",\")\n",
    "\n",
    "# Normalize dataset\n",
    "# Normalize sex\n",
    "titanic['Sex'].replace(['female','male'],[0,1],inplace=True)\n",
    "# Normalize parents - if needed\n",
    "# titanic = titanic[titanic['Parents'] > 2]\n",
    "#titanic['Parents'] = std_scaler.fit_transform(titanic[['Parents']])\n",
    "# Normalize siblings\n",
    "#titanic['Siblings'] = std_scaler.fit_transform(titanic[['Siblings']])\n",
    "# Normalize age\n",
    "titanic['Age'] = std_scaler.fit_transform(titanic[['Age']])\n",
    "# Normalize passenger class\n",
    "p_classes = pd.get_dummies(titanic.Pclass, prefix='Class')\n",
    "titanic = titanic.join(p_classes).drop(['Pclass'], axis=1)\n",
    "# Normalize fare\n",
    "titanic['Fare'] = std_scaler.fit_transform(titanic[['Fare']])\n",
    "\n",
    "print(titanic.describe())\n",
    "\n",
    "titanic = sk.utils.shuffle(titanic)\n",
    "\n",
    "# Split dataset to train, test and valid\n",
    "train, test = np.split(titanic, [int(.7*len(titanic))])\n",
    "# train, test, valid = np.split(titanic, [int(.7*len(titanic)), int(.9*len(titanic))])\n",
    "\n",
    "train_labels = train['Survived']\n",
    "train_data = train.drop(['Survived', 'Name'], axis=1)\n",
    "test_labels = test['Survived']\n",
    "test_data = test.drop(['Survived', 'Name'], axis=1)\n",
    "# valid_labels = valid['Survived']\n",
    "# valid_data = valid.drop(['Survived', 'Name'], axis=1)"
   ]
  },
  {
   "cell_type": "code",
   "execution_count": 2,
   "outputs": [
    {
     "ename": "AttributeError",
     "evalue": "'DataFrame' object has no attribute 'tolist'",
     "output_type": "error",
     "traceback": [
      "\u001B[1;31m---------------------------------------------------------------------------\u001B[0m",
      "\u001B[1;31mAttributeError\u001B[0m                            Traceback (most recent call last)",
      "\u001B[1;32m<ipython-input-2-930abc5bb83d>\u001B[0m in \u001B[0;36m<module>\u001B[1;34m\u001B[0m\n\u001B[0;32m     25\u001B[0m \u001B[1;33m\u001B[0m\u001B[0m\n\u001B[0;32m     26\u001B[0m \u001B[1;31m# Convert data to tensors\u001B[0m\u001B[1;33m\u001B[0m\u001B[1;33m\u001B[0m\u001B[1;33m\u001B[0m\u001B[0m\n\u001B[1;32m---> 27\u001B[1;33m \u001B[0mx_ax\u001B[0m \u001B[1;33m=\u001B[0m \u001B[0mtorch\u001B[0m\u001B[1;33m.\u001B[0m\u001B[0mFloatTensor\u001B[0m\u001B[1;33m(\u001B[0m\u001B[0mtrain_data\u001B[0m\u001B[1;33m.\u001B[0m\u001B[0mtolist\u001B[0m\u001B[1;33m(\u001B[0m\u001B[1;33m)\u001B[0m\u001B[1;33m)\u001B[0m\u001B[1;33m\u001B[0m\u001B[1;33m\u001B[0m\u001B[0m\n\u001B[0m\u001B[0;32m     28\u001B[0m \u001B[0my_ax\u001B[0m \u001B[1;33m=\u001B[0m \u001B[0mtorch\u001B[0m\u001B[1;33m.\u001B[0m\u001B[0mLongTensor\u001B[0m\u001B[1;33m(\u001B[0m\u001B[0mtrain_labels\u001B[0m\u001B[1;33m.\u001B[0m\u001B[0mtolist\u001B[0m\u001B[1;33m(\u001B[0m\u001B[1;33m)\u001B[0m\u001B[1;33m)\u001B[0m\u001B[1;33m\u001B[0m\u001B[1;33m\u001B[0m\u001B[0m\n\u001B[0;32m     29\u001B[0m \u001B[1;33m\u001B[0m\u001B[0m\n",
      "\u001B[1;32mc:\\programming\\nsiete\\assignment\\nsiete-assignment_1\\venv\\lib\\site-packages\\pandas\\core\\generic.py\u001B[0m in \u001B[0;36m__getattr__\u001B[1;34m(self, name)\u001B[0m\n\u001B[0;32m   5463\u001B[0m             \u001B[1;32mif\u001B[0m \u001B[0mself\u001B[0m\u001B[1;33m.\u001B[0m\u001B[0m_info_axis\u001B[0m\u001B[1;33m.\u001B[0m\u001B[0m_can_hold_identifiers_and_holds_name\u001B[0m\u001B[1;33m(\u001B[0m\u001B[0mname\u001B[0m\u001B[1;33m)\u001B[0m\u001B[1;33m:\u001B[0m\u001B[1;33m\u001B[0m\u001B[1;33m\u001B[0m\u001B[0m\n\u001B[0;32m   5464\u001B[0m                 \u001B[1;32mreturn\u001B[0m \u001B[0mself\u001B[0m\u001B[1;33m[\u001B[0m\u001B[0mname\u001B[0m\u001B[1;33m]\u001B[0m\u001B[1;33m\u001B[0m\u001B[1;33m\u001B[0m\u001B[0m\n\u001B[1;32m-> 5465\u001B[1;33m             \u001B[1;32mreturn\u001B[0m \u001B[0mobject\u001B[0m\u001B[1;33m.\u001B[0m\u001B[0m__getattribute__\u001B[0m\u001B[1;33m(\u001B[0m\u001B[0mself\u001B[0m\u001B[1;33m,\u001B[0m \u001B[0mname\u001B[0m\u001B[1;33m)\u001B[0m\u001B[1;33m\u001B[0m\u001B[1;33m\u001B[0m\u001B[0m\n\u001B[0m\u001B[0;32m   5466\u001B[0m \u001B[1;33m\u001B[0m\u001B[0m\n\u001B[0;32m   5467\u001B[0m     \u001B[1;32mdef\u001B[0m \u001B[0m__setattr__\u001B[0m\u001B[1;33m(\u001B[0m\u001B[0mself\u001B[0m\u001B[1;33m,\u001B[0m \u001B[0mname\u001B[0m\u001B[1;33m:\u001B[0m \u001B[0mstr\u001B[0m\u001B[1;33m,\u001B[0m \u001B[0mvalue\u001B[0m\u001B[1;33m)\u001B[0m \u001B[1;33m->\u001B[0m \u001B[1;32mNone\u001B[0m\u001B[1;33m:\u001B[0m\u001B[1;33m\u001B[0m\u001B[1;33m\u001B[0m\u001B[0m\n",
      "\u001B[1;31mAttributeError\u001B[0m: 'DataFrame' object has no attribute 'tolist'"
     ]
    }
   ],
   "source": [
    "import torch\n",
    "import torch.nn as nn\n",
    "import torch.nn.functional as F\n",
    "\n",
    "\n",
    "\n",
    "# Hyperparameters\n",
    "input_size = 6\n",
    "output_size = 2\n",
    "hidden_size = 200\n",
    "epochs = 20\n",
    "batch_size = 50\n",
    "learning_rate = 0.00003\n",
    "\n",
    "class Network(nn.Module):\n",
    "    def __init__(self):\n",
    "        super(Network, self).__init__()\n",
    "        self.l1 = nn.Linear(input_size, hidden_size)\n",
    "        self.relu = nn.ReLU()\n",
    "        self.l3 = nn.Linear(hidden_size, output_size)\n",
    "\n",
    "    def forward(self, x):\n",
    "        x = self.l1(x)\n",
    "        x = self.relu(x)\n",
    "        x = self.l3(x)\n",
    "        return F.log_softmax(x)\n",
    "\n",
    "# Convert data to tensors\n",
    "# x_ax = torch.FloatTensor(train_data.tolist())\n",
    "# y_ax = torch.LongTensor(train_labels.tolist())\n",
    "\n",
    "net = Network()\n",
    "print(net)"
   ],
   "metadata": {
    "collapsed": false,
    "pycharm": {
     "name": "#%%\n"
    }
   }
  },
  {
   "cell_type": "code",
   "execution_count": null,
   "outputs": [],
   "source": [
    "import tensorflow"
   ],
   "metadata": {
    "collapsed": false,
    "pycharm": {
     "name": "#%%\n"
    }
   }
  }
 ],
 "metadata": {
  "kernelspec": {
   "display_name": "Python 3",
   "language": "python",
   "name": "python3"
  },
  "language_info": {
   "codemirror_mode": {
    "name": "ipython",
    "version": 2
   },
   "file_extension": ".py",
   "mimetype": "text/x-python",
   "name": "python",
   "nbconvert_exporter": "python",
   "pygments_lexer": "ipython2",
   "version": "2.7.6"
  }
 },
 "nbformat": 4,
 "nbformat_minor": 0
}