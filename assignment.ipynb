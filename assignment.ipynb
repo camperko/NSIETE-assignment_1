{
 "cells": [
  {
   "cell_type": "code",
   "execution_count": 17,
   "metadata": {
    "collapsed": true
   },
   "outputs": [],
   "source": [
    "import pandas as pd\n",
    "import numpy as np\n",
    "import sklearn as sk\n",
    "\n",
    "from sklearn.preprocessing import StandardScaler\n",
    "from sklearn.preprocessing import MinMaxScaler\n",
    "\n",
    "# Init scalers\n",
    "std_scaler = StandardScaler()\n",
    "minmax_scaler = MinMaxScaler()\n",
    "\n",
    "# Load dataset\n",
    "titanic = pd.read_csv(\"titanic.csv\", header=0, sep=\",\")\n",
    "\n",
    "# Normalize dataset\n",
    "# Normalize sex\n",
    "titanic['Sex'].replace(['female','male'],[0,1],inplace=True)\n",
    "# Normalize parents - if needed\n",
    "# titanic = titanic[titanic['Parents'] > 2]\n",
    "titanic['Parents'] = std_scaler.fit_transform(titanic[['Parents']])\n",
    "# Normalize siblings\n",
    "titanic['Siblings'] = std_scaler.fit_transform(titanic[['Siblings']])\n",
    "# Normalize age\n",
    "titanic['Age'] = std_scaler.fit_transform(titanic[['Age']])\n",
    "# Normalize passenger class\n",
    "p_classes = pd.get_dummies(titanic.Pclass, prefix='Class')\n",
    "titanic = titanic.join(p_classes).drop(['Pclass'], axis=1)\n",
    "# Normalize fare\n",
    "titanic['Fare'] = std_scaler.fit_transform(titanic[['Fare']])\n",
    "\n",
    "titanic = sk.utils.shuffle(titanic)\n",
    "\n",
    "# Split dataset to train, test and valid\n",
    "train, test = np.split(titanic, [int(.7*len(titanic))])\n",
    "\n",
    "# Create train and test set\n",
    "train_labels = train['Survived']\n",
    "train_data = train.drop(['Survived', 'Name'], axis=1)\n",
    "test_labels = test['Survived']\n",
    "test_data = test.drop(['Survived', 'Name'], axis=1)\n",
    "\n",
    "\n"
   ]
  },
  {
   "cell_type": "code",
   "execution_count": 18,
   "outputs": [],
   "source": [
    "import torch\n",
    "import torch.nn as nn\n",
    "import torch.nn.functional as F\n",
    "import torch.optim as optim\n",
    "\n",
    "# Create tensors from train and test set\n",
    "train_data_tensor = torch.FloatTensor(train_data.values)\n",
    "train_label_tensor = torch.LongTensor(train_labels.values)\n",
    "test_data_tensor = torch.FloatTensor(test_data.values)\n",
    "test_label_tensor = torch.LongTensor(test_labels.values)"
   ],
   "metadata": {
    "collapsed": false,
    "pycharm": {
     "name": "#%%\n"
    }
   }
  },
  {
   "cell_type": "code",
   "execution_count": 19,
   "outputs": [
    {
     "name": "stdout",
     "output_type": "stream",
     "text": [
      "Network(\n",
      "  (fc1): Linear(in_features=8, out_features=64, bias=True)\n",
      "  (fc2): Linear(in_features=64, out_features=56, bias=True)\n",
      "  (output): Linear(in_features=56, out_features=2, bias=True)\n",
      ")\n"
     ]
    }
   ],
   "source": [
    "# Initialize hyperparameters\n",
    "input_size = 8\n",
    "output_size = 2\n",
    "hidden_size1 = 64\n",
    "hidden_size2 = 56\n",
    "epochs = 100\n",
    "learning_rate = 0.005\n",
    "\n",
    "# Initialize model class with layers and activation functions\n",
    "class Network(nn.Module):\n",
    "    def __init__(self):\n",
    "        super(Network, self).__init__()\n",
    "        self.fc1 = nn.Linear(in_features=input_size, out_features=hidden_size1)\n",
    "        self.fc2 = nn.Linear(in_features=hidden_size1, out_features=hidden_size2)\n",
    "        self.output = nn.Linear(in_features=hidden_size2, out_features=output_size)\n",
    "\n",
    "    def forward(self, x):\n",
    "        x = F.relu(self.fc1(x))\n",
    "        x = F.relu(self.fc2(x))\n",
    "        x = self.output(x)\n",
    "        return x\n",
    "\n",
    "# Create net instance, loss function and optimizer\n",
    "net = Network()\n",
    "optimizer = optim.Adam(net.parameters(), lr=learning_rate)\n",
    "criterion = nn.CrossEntropyLoss()"
   ],
   "metadata": {
    "collapsed": false,
    "pycharm": {
     "name": "#%%\n"
    }
   }
  },
  {
   "cell_type": "code",
   "execution_count": 20,
   "outputs": [
    {
     "name": "stdout",
     "output_type": "stream",
     "text": [
      "Epoch: 0 Loss: 0.6944767236709595\n",
      "Epoch: 10 Loss: 0.6125081181526184\n",
      "Epoch: 20 Loss: 0.5526469945907593\n",
      "Epoch: 30 Loss: 0.505415678024292\n",
      "Epoch: 40 Loss: 0.46625247597694397\n",
      "Epoch: 50 Loss: 0.4365920424461365\n",
      "Epoch: 60 Loss: 0.4157172441482544\n",
      "Epoch: 70 Loss: 0.4018634557723999\n",
      "Epoch: 80 Loss: 0.39210107922554016\n",
      "Epoch: 90 Loss: 0.3846520781517029\n"
     ]
    }
   ],
   "source": [
    "# Train model on train data tensors\n",
    "loss_arr = []\n",
    "for i in range(epochs):\n",
    "    y_hat = net.forward(train_data_tensor)\n",
    "    loss = criterion(y_hat, train_label_tensor)\n",
    "    loss_arr.append(loss)\n",
    "\n",
    "    optimizer.zero_grad()\n",
    "    loss.backward()\n",
    "    optimizer.step()\n",
    "\n",
    "    if i % 5 == 0:\n",
    "        print(f'Epoch: {i} Loss: {loss}')"
   ],
   "metadata": {
    "collapsed": false,
    "pycharm": {
     "name": "#%%\n"
    }
   }
  },
  {
   "cell_type": "code",
   "execution_count": 21,
   "outputs": [
    {
     "data": {
      "text/plain": "[<matplotlib.lines.Line2D at 0x253054b8bb0>]"
     },
     "execution_count": 21,
     "metadata": {},
     "output_type": "execute_result"
    },
    {
     "data": {
      "text/plain": "<Figure size 432x288 with 1 Axes>",
      "image/png": "[encoded data removed]"
     },
     "metadata": {
      "needs_background": "light"
     },
     "output_type": "display_data"
    }
   ],
   "source": [
    "import matplotlib.pyplot as plt\n",
    "\n",
    "# Plot graph of loss function\n",
    "plt.title('Loss VS Epoch')\n",
    "plt.xlabel(\"Loss\")\n",
    "plt.xlabel(\"Epoch\")\n",
    "plt.plot(loss_arr)"
   ],
   "metadata": {
    "collapsed": false,
    "pycharm": {
     "name": "#%%\n"
    }
   }
  },
  {
   "cell_type": "code",
   "execution_count": 22,
   "outputs": [
    {
     "name": "stdout",
     "output_type": "stream",
     "text": [
      "0.7940074906367042\n"
     ]
    }
   ],
   "source": [
    "# Test model on test set\n",
    "predictions = []\n",
    "with torch.no_grad():\n",
    "    for val in test_data_tensor:\n",
    "        y_hat = net.forward(val)\n",
    "        predictions.append(y_hat.argmax().item())\n",
    "\n",
    "# Create dataframe with ground truth values and predicted values\n",
    "df = pd.DataFrame({'Y': test_label_tensor, 'YHat': predictions})\n",
    "df['Correct'] = [1 if corr == pred else 0 for corr, pred in zip(df['Y'], df['YHat'])]\n",
    "\n",
    "# Print accuracy\n",
    "print(\"Accuracy of model is: \" + df['Correct'].sum() / len(df))"
   ],
   "metadata": {
    "collapsed": false,
    "pycharm": {
     "name": "#%%\n"
    }
   }
  },
  {
   "cell_type": "code",
   "execution_count": null,
   "outputs": [],
   "source": [
    "import tensorflow"
   ],
   "metadata": {
    "collapsed": false,
    "pycharm": {
     "name": "#%%\n"
    }
   }
  }
 ],
 "metadata": {
  "kernelspec": {
   "display_name": "Python 3",
   "language": "python",
   "name": "python3"
  },
  "language_info": {
   "codemirror_mode": {
    "name": "ipython",
    "version": 2
   },
   "file_extension": ".py",
   "mimetype": "text/x-python",
   "name": "python",
   "nbconvert_exporter": "python",
   "pygments_lexer": "ipython2",
   "version": "2.7.6"
  }
 },
 "nbformat": 4,
 "nbformat_minor": 0
}